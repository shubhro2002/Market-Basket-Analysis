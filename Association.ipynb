{
 "cells": [
  {
   "cell_type": "markdown",
   "id": "211ed8c8-7920-4cdc-aa09-3ca7b15e5969",
   "metadata": {},
   "source": [
    "# Assciation Rule Mining"
   ]
  },
  {
   "cell_type": "markdown",
   "id": "7d2d4ba7-ac6f-4538-aee1-4c3c15fdae1a",
   "metadata": {},
   "source": [
    "Association Rule Mining is a technique used to discover interesting relationships (associations) or patterns among a large set of items in transaction databases, relational databases, or other information repositories.\n",
    "\n",
    "In a supermarket, we might want to discover patterns like:\n",
    "\n",
    "“*If a customer buys bread and butter, they are likely to also buy milk.*”\n",
    "\n",
    "This helps in:\n",
    "\n",
    "- Market basket analysis\n",
    "\n",
    "- Recommendation systems\n",
    "\n",
    "- Cross-selling strategies\n",
    "\n",
    "- Inventory management"
   ]
  },
  {
   "cell_type": "markdown",
   "id": "9d2e918c-a3c7-4e23-b265-9b0921d5b653",
   "metadata": {},
   "source": [
    "Let's explore some of the Association Rule Mining Algorithms"
   ]
  },
  {
   "cell_type": "markdown",
   "id": "e27731e1-0ef6-48d4-9b2e-b88d9462f12b",
   "metadata": {},
   "source": [
    "## Import "
   ]
  },
  {
   "cell_type": "code",
   "execution_count": 5,
   "id": "ddbc74b0-ed27-4101-8194-2e0060e463e6",
   "metadata": {},
   "outputs": [],
   "source": [
    "import pandas as pd\n",
    "import matplotlib.pyplot as plt\n",
    "import seaborn as sns\n",
    "from mlxtend.frequent_patterns import apriori, fpgrowth, association_rules\n",
    "from mlxtend.preprocessing import TransactionEncoder\n",
    "from itertools import combinations\n",
    "import warnings\n",
    "warnings.filterwarnings('ignore')"
   ]
  },
  {
   "cell_type": "code",
   "execution_count": 6,
   "id": "70788426-23c1-4aac-a401-7204cd4402ef",
   "metadata": {},
   "outputs": [],
   "source": [
    "sns.set_style('whitegrid')"
   ]
  },
  {
   "cell_type": "markdown",
   "id": "b2c29e4f-33ef-44c7-a2c0-9cf82e310f08",
   "metadata": {},
   "source": [
    "## Read Data"
   ]
  },
  {
   "cell_type": "code",
   "execution_count": 8,
   "id": "f9b1f577-0a4e-4370-a9a0-5b4c7be2d908",
   "metadata": {},
   "outputs": [
    {
     "data": {
      "text/html": [
       "<div>\n",
       "<style scoped>\n",
       "    .dataframe tbody tr th:only-of-type {\n",
       "        vertical-align: middle;\n",
       "    }\n",
       "\n",
       "    .dataframe tbody tr th {\n",
       "        vertical-align: top;\n",
       "    }\n",
       "\n",
       "    .dataframe thead th {\n",
       "        text-align: right;\n",
       "    }\n",
       "</style>\n",
       "<table border=\"1\" class=\"dataframe\">\n",
       "  <thead>\n",
       "    <tr style=\"text-align: right;\">\n",
       "      <th></th>\n",
       "      <th>Transaction</th>\n",
       "    </tr>\n",
       "  </thead>\n",
       "  <tbody>\n",
       "    <tr>\n",
       "      <th>0</th>\n",
       "      <td>Milk, Eggs, Bread, Butter, Cheese</td>\n",
       "    </tr>\n",
       "    <tr>\n",
       "      <th>1</th>\n",
       "      <td>Yogurt, Milk, Cereal, Bread, Butter</td>\n",
       "    </tr>\n",
       "    <tr>\n",
       "      <th>2</th>\n",
       "      <td>Yogurt, Milk, Eggs, Fruits, Bread, Butter, Cheese</td>\n",
       "    </tr>\n",
       "    <tr>\n",
       "      <th>3</th>\n",
       "      <td>Eggs, Milk, Bread</td>\n",
       "    </tr>\n",
       "    <tr>\n",
       "      <th>4</th>\n",
       "      <td>Butter, Milk, Bread</td>\n",
       "    </tr>\n",
       "  </tbody>\n",
       "</table>\n",
       "</div>"
      ],
      "text/plain": [
       "                                         Transaction\n",
       "0                  Milk, Eggs, Bread, Butter, Cheese\n",
       "1                Yogurt, Milk, Cereal, Bread, Butter\n",
       "2  Yogurt, Milk, Eggs, Fruits, Bread, Butter, Cheese\n",
       "3                                  Eggs, Milk, Bread\n",
       "4                                Butter, Milk, Bread"
      ]
     },
     "execution_count": 8,
     "metadata": {},
     "output_type": "execute_result"
    }
   ],
   "source": [
    "df = pd.read_csv('strong_association_transactions.csv')\n",
    "df.head()"
   ]
  },
  {
   "cell_type": "code",
   "execution_count": 9,
   "id": "eea001c0-7d75-4d29-9d90-1daca68f127b",
   "metadata": {},
   "outputs": [
    {
     "data": {
      "text/plain": [
       "(1000, 1)"
      ]
     },
     "execution_count": 9,
     "metadata": {},
     "output_type": "execute_result"
    }
   ],
   "source": [
    "df.shape"
   ]
  },
  {
   "cell_type": "code",
   "execution_count": 10,
   "id": "cf7bda2b-f0d7-4802-b9e9-21d021941e75",
   "metadata": {},
   "outputs": [
    {
     "data": {
      "text/plain": [
       "Transaction    16\n",
       "dtype: int64"
      ]
     },
     "execution_count": 10,
     "metadata": {},
     "output_type": "execute_result"
    }
   ],
   "source": [
    "df.isnull().sum()"
   ]
  },
  {
   "cell_type": "markdown",
   "id": "7ed34aed-e6ee-424c-9b34-13d8d3008e54",
   "metadata": {},
   "source": [
    "It seems there are 16 null transactions"
   ]
  },
  {
   "cell_type": "code",
   "execution_count": 12,
   "id": "d4429285-d5ac-43b0-9e21-a3e6ad79dd5c",
   "metadata": {},
   "outputs": [
    {
     "data": {
      "text/html": [
       "<div>\n",
       "<style scoped>\n",
       "    .dataframe tbody tr th:only-of-type {\n",
       "        vertical-align: middle;\n",
       "    }\n",
       "\n",
       "    .dataframe tbody tr th {\n",
       "        vertical-align: top;\n",
       "    }\n",
       "\n",
       "    .dataframe thead th {\n",
       "        text-align: right;\n",
       "    }\n",
       "</style>\n",
       "<table border=\"1\" class=\"dataframe\">\n",
       "  <thead>\n",
       "    <tr style=\"text-align: right;\">\n",
       "      <th></th>\n",
       "      <th>Bread</th>\n",
       "      <th>Butter</th>\n",
       "      <th>Cereal</th>\n",
       "      <th>Cheese</th>\n",
       "      <th>Coffee</th>\n",
       "      <th>Eggs</th>\n",
       "      <th>Fruits</th>\n",
       "      <th>Juice</th>\n",
       "      <th>Milk</th>\n",
       "      <th>Yogurt</th>\n",
       "    </tr>\n",
       "  </thead>\n",
       "  <tbody>\n",
       "    <tr>\n",
       "      <th>0</th>\n",
       "      <td>True</td>\n",
       "      <td>True</td>\n",
       "      <td>False</td>\n",
       "      <td>True</td>\n",
       "      <td>False</td>\n",
       "      <td>True</td>\n",
       "      <td>False</td>\n",
       "      <td>False</td>\n",
       "      <td>True</td>\n",
       "      <td>False</td>\n",
       "    </tr>\n",
       "    <tr>\n",
       "      <th>1</th>\n",
       "      <td>True</td>\n",
       "      <td>True</td>\n",
       "      <td>True</td>\n",
       "      <td>False</td>\n",
       "      <td>False</td>\n",
       "      <td>False</td>\n",
       "      <td>False</td>\n",
       "      <td>False</td>\n",
       "      <td>True</td>\n",
       "      <td>True</td>\n",
       "    </tr>\n",
       "    <tr>\n",
       "      <th>2</th>\n",
       "      <td>True</td>\n",
       "      <td>True</td>\n",
       "      <td>False</td>\n",
       "      <td>True</td>\n",
       "      <td>False</td>\n",
       "      <td>True</td>\n",
       "      <td>True</td>\n",
       "      <td>False</td>\n",
       "      <td>True</td>\n",
       "      <td>True</td>\n",
       "    </tr>\n",
       "    <tr>\n",
       "      <th>3</th>\n",
       "      <td>True</td>\n",
       "      <td>False</td>\n",
       "      <td>False</td>\n",
       "      <td>False</td>\n",
       "      <td>False</td>\n",
       "      <td>True</td>\n",
       "      <td>False</td>\n",
       "      <td>False</td>\n",
       "      <td>True</td>\n",
       "      <td>False</td>\n",
       "    </tr>\n",
       "    <tr>\n",
       "      <th>4</th>\n",
       "      <td>True</td>\n",
       "      <td>True</td>\n",
       "      <td>False</td>\n",
       "      <td>False</td>\n",
       "      <td>False</td>\n",
       "      <td>False</td>\n",
       "      <td>False</td>\n",
       "      <td>False</td>\n",
       "      <td>True</td>\n",
       "      <td>False</td>\n",
       "    </tr>\n",
       "  </tbody>\n",
       "</table>\n",
       "</div>"
      ],
      "text/plain": [
       "   Bread  Butter  Cereal  Cheese  Coffee   Eggs  Fruits  Juice  Milk  Yogurt\n",
       "0   True    True   False    True   False   True   False  False  True   False\n",
       "1   True    True    True   False   False  False   False  False  True    True\n",
       "2   True    True   False    True   False   True    True  False  True    True\n",
       "3   True   False   False   False   False   True   False  False  True   False\n",
       "4   True    True   False   False   False  False   False  False  True   False"
      ]
     },
     "execution_count": 12,
     "metadata": {},
     "output_type": "execute_result"
    }
   ],
   "source": [
    "te = TransactionEncoder()\n",
    "transactions = [str(row).split(', ') for row in df['Transaction'] if pd.notnull(row)] # consider only non-null values\n",
    "\n",
    "te_array = te.fit(transactions).transform(transactions)\n",
    "processed_df = pd.DataFrame(te_array, columns = te.columns_)\n",
    "\n",
    "processed_df.head()"
   ]
  },
  {
   "cell_type": "code",
   "execution_count": 13,
   "id": "9855e1fe-4e43-4b39-89d1-2769febb7825",
   "metadata": {},
   "outputs": [],
   "source": [
    "processed_df.to_csv('processed_transactions.csv', index=False)"
   ]
  },
  {
   "cell_type": "code",
   "execution_count": 14,
   "id": "4688e25f-2a5a-4ddb-89cd-28f8b36b59dc",
   "metadata": {},
   "outputs": [
    {
     "data": {
      "text/plain": [
       "(984, 10)"
      ]
     },
     "execution_count": 14,
     "metadata": {},
     "output_type": "execute_result"
    }
   ],
   "source": [
    "processed_df.shape"
   ]
  },
  {
   "cell_type": "code",
   "execution_count": 15,
   "id": "61394a47-6b92-4cf8-9aee-ef28663ddb46",
   "metadata": {},
   "outputs": [
    {
     "data": {
      "image/png": "[encoded data removed]",
      "text/plain": [
       "<Figure size 800x800 with 1 Axes>"
      ]
     },
     "metadata": {},
     "output_type": "display_data"
    }
   ],
   "source": [
    "item_counts = processed_df.sum()\n",
    "\n",
    "plt.figure(figsize=(8, 8))\n",
    "plt.pie(item_counts, labels=item_counts.index, autopct='%1.1f%%', colors=plt.cm.Pastel1.colors)\n",
    "plt.title('Composition of Items in Transactions')\n",
    "plt.axis('equal')\n",
    "plt.show()"
   ]
  },
  {
   "cell_type": "markdown",
   "id": "6da68fbc-a9d0-49e7-bf82-a1d744a5dd37",
   "metadata": {},
   "source": [
    "Above pie-chart shows the composition of each items in the dataset of transactions."
   ]
  },
  {
   "cell_type": "markdown",
   "id": "6d28e211-18fc-4bf9-8564-9fb9849d063b",
   "metadata": {},
   "source": [
    "## Apriori Algorithm"
   ]
  },
  {
   "cell_type": "markdown",
   "id": "a3edb2c5-d0ee-46af-a5b1-a4b1a6abbc68",
   "metadata": {},
   "source": [
    "The Apriori algorithm is used to find frequent itemsets in a dataset and derive association rules from them.\n",
    "It uses a bottom-up approach, where:\n",
    "\n",
    "1. Frequent individual items are identified.\n",
    "\n",
    "2. These are extended step-by-step to larger and larger itemsets (e.g., 2-itemsets, 3-itemsets).\n",
    "\n",
    "3. It prunes (removes) itemsets that don’t meet the minimum support because if an itemset is not frequent, none of its supersets can be."
   ]
  },
  {
   "cell_type": "markdown",
   "id": "efcbdc61-261d-4599-b9db-c886641084b8",
   "metadata": {},
   "source": [
    "### Frequent-Itemset Generation"
   ]
  },
  {
   "cell_type": "markdown",
   "id": "cd249a8d-3876-47e7-9cac-7b54c1881cc8",
   "metadata": {},
   "source": [
    "Minimum Support: 40%"
   ]
  },
  {
   "cell_type": "code",
   "execution_count": 20,
   "id": "4731ea33-c1ba-47ca-a1c4-b7a3099ad02c",
   "metadata": {},
   "outputs": [
    {
     "name": "stdout",
     "output_type": "stream",
     "text": [
      "Processing 4 combinations | Sampling itemset size 43\n"
     ]
    },
    {
     "data": {
      "text/html": [
       "<div>\n",
       "<style scoped>\n",
       "    .dataframe tbody tr th:only-of-type {\n",
       "        vertical-align: middle;\n",
       "    }\n",
       "\n",
       "    .dataframe tbody tr th {\n",
       "        vertical-align: top;\n",
       "    }\n",
       "\n",
       "    .dataframe thead th {\n",
       "        text-align: right;\n",
       "    }\n",
       "</style>\n",
       "<table border=\"1\" class=\"dataframe\">\n",
       "  <thead>\n",
       "    <tr style=\"text-align: right;\">\n",
       "      <th></th>\n",
       "      <th>support</th>\n",
       "      <th>itemsets</th>\n",
       "    </tr>\n",
       "  </thead>\n",
       "  <tbody>\n",
       "    <tr>\n",
       "      <th>0</th>\n",
       "      <td>0.908537</td>\n",
       "      <td>(Bread)</td>\n",
       "    </tr>\n",
       "    <tr>\n",
       "      <th>1</th>\n",
       "      <td>0.661585</td>\n",
       "      <td>(Butter)</td>\n",
       "    </tr>\n",
       "    <tr>\n",
       "      <th>2</th>\n",
       "      <td>0.584350</td>\n",
       "      <td>(Cheese)</td>\n",
       "    </tr>\n",
       "    <tr>\n",
       "      <th>3</th>\n",
       "      <td>0.572154</td>\n",
       "      <td>(Eggs)</td>\n",
       "    </tr>\n",
       "    <tr>\n",
       "      <th>4</th>\n",
       "      <td>0.725610</td>\n",
       "      <td>(Milk)</td>\n",
       "    </tr>\n",
       "    <tr>\n",
       "      <th>5</th>\n",
       "      <td>0.642276</td>\n",
       "      <td>(Bread, Butter)</td>\n",
       "    </tr>\n",
       "    <tr>\n",
       "      <th>6</th>\n",
       "      <td>0.519309</td>\n",
       "      <td>(Cheese, Bread)</td>\n",
       "    </tr>\n",
       "    <tr>\n",
       "      <th>7</th>\n",
       "      <td>0.507114</td>\n",
       "      <td>(Eggs, Bread)</td>\n",
       "    </tr>\n",
       "    <tr>\n",
       "      <th>8</th>\n",
       "      <td>0.716463</td>\n",
       "      <td>(Milk, Bread)</td>\n",
       "    </tr>\n",
       "    <tr>\n",
       "      <th>9</th>\n",
       "      <td>0.464431</td>\n",
       "      <td>(Milk, Butter)</td>\n",
       "    </tr>\n",
       "    <tr>\n",
       "      <th>10</th>\n",
       "      <td>0.524390</td>\n",
       "      <td>(Cheese, Eggs)</td>\n",
       "    </tr>\n",
       "    <tr>\n",
       "      <th>11</th>\n",
       "      <td>0.418699</td>\n",
       "      <td>(Cheese, Milk)</td>\n",
       "    </tr>\n",
       "    <tr>\n",
       "      <th>12</th>\n",
       "      <td>0.410569</td>\n",
       "      <td>(Eggs, Milk)</td>\n",
       "    </tr>\n",
       "    <tr>\n",
       "      <th>13</th>\n",
       "      <td>0.464431</td>\n",
       "      <td>(Milk, Bread, Butter)</td>\n",
       "    </tr>\n",
       "    <tr>\n",
       "      <th>14</th>\n",
       "      <td>0.463415</td>\n",
       "      <td>(Cheese, Bread, Eggs)</td>\n",
       "    </tr>\n",
       "    <tr>\n",
       "      <th>15</th>\n",
       "      <td>0.411585</td>\n",
       "      <td>(Cheese, Milk, Bread)</td>\n",
       "    </tr>\n",
       "    <tr>\n",
       "      <th>16</th>\n",
       "      <td>0.402439</td>\n",
       "      <td>(Eggs, Milk, Bread)</td>\n",
       "    </tr>\n",
       "  </tbody>\n",
       "</table>\n",
       "</div>"
      ],
      "text/plain": [
       "     support               itemsets\n",
       "0   0.908537                (Bread)\n",
       "1   0.661585               (Butter)\n",
       "2   0.584350               (Cheese)\n",
       "3   0.572154                 (Eggs)\n",
       "4   0.725610                 (Milk)\n",
       "5   0.642276        (Bread, Butter)\n",
       "6   0.519309        (Cheese, Bread)\n",
       "7   0.507114          (Eggs, Bread)\n",
       "8   0.716463          (Milk, Bread)\n",
       "9   0.464431         (Milk, Butter)\n",
       "10  0.524390         (Cheese, Eggs)\n",
       "11  0.418699         (Cheese, Milk)\n",
       "12  0.410569           (Eggs, Milk)\n",
       "13  0.464431  (Milk, Bread, Butter)\n",
       "14  0.463415  (Cheese, Bread, Eggs)\n",
       "15  0.411585  (Cheese, Milk, Bread)\n",
       "16  0.402439    (Eggs, Milk, Bread)"
      ]
     },
     "execution_count": 20,
     "metadata": {},
     "output_type": "execute_result"
    }
   ],
   "source": [
    "frequent_itemsets = apriori(processed_df, verbose = 3, min_support = 0.4, use_colnames = True)\n",
    "frequent_itemsets"
   ]
  },
  {
   "cell_type": "markdown",
   "id": "7b32b810-0548-42ce-abca-b44518a5b2c8",
   "metadata": {},
   "source": [
    "### Rule Generation"
   ]
  },
  {
   "cell_type": "markdown",
   "id": "b07d9dae-c8b0-4816-8971-8f8d51b03c6d",
   "metadata": {},
   "source": [
    "Threshold Confidence: 75%"
   ]
  },
  {
   "cell_type": "code",
   "execution_count": 22,
   "id": "c32569c5-0735-4fa8-98cf-a9e9e9ddb60e",
   "metadata": {},
   "outputs": [],
   "source": [
    "rules = association_rules(frequent_itemsets, metric = 'confidence', min_threshold = 0.75)"
   ]
  },
  {
   "cell_type": "code",
   "execution_count": 23,
   "id": "8bf96b80-dcb0-4adc-a3c2-9ff9c4336101",
   "metadata": {},
   "outputs": [
    {
     "data": {
      "text/html": [
       "<div>\n",
       "<style scoped>\n",
       "    .dataframe tbody tr th:only-of-type {\n",
       "        vertical-align: middle;\n",
       "    }\n",
       "\n",
       "    .dataframe tbody tr th {\n",
       "        vertical-align: top;\n",
       "    }\n",
       "\n",
       "    .dataframe thead th {\n",
       "        text-align: right;\n",
       "    }\n",
       "</style>\n",
       "<table border=\"1\" class=\"dataframe\">\n",
       "  <thead>\n",
       "    <tr style=\"text-align: right;\">\n",
       "      <th></th>\n",
       "      <th>antecedents</th>\n",
       "      <th>consequents</th>\n",
       "      <th>antecedent support</th>\n",
       "      <th>consequent support</th>\n",
       "      <th>support</th>\n",
       "      <th>confidence</th>\n",
       "      <th>lift</th>\n",
       "      <th>representativity</th>\n",
       "      <th>leverage</th>\n",
       "      <th>conviction</th>\n",
       "      <th>zhangs_metric</th>\n",
       "      <th>jaccard</th>\n",
       "      <th>certainty</th>\n",
       "      <th>kulczynski</th>\n",
       "    </tr>\n",
       "  </thead>\n",
       "  <tbody>\n",
       "    <tr>\n",
       "      <th>0</th>\n",
       "      <td>(Butter)</td>\n",
       "      <td>(Bread)</td>\n",
       "      <td>0.661585</td>\n",
       "      <td>0.908537</td>\n",
       "      <td>0.642276</td>\n",
       "      <td>0.970814</td>\n",
       "      <td>1.068547</td>\n",
       "      <td>1.0</td>\n",
       "      <td>0.041202</td>\n",
       "      <td>3.133825</td>\n",
       "      <td>0.189560</td>\n",
       "      <td>0.692223</td>\n",
       "      <td>0.680901</td>\n",
       "      <td>0.838875</td>\n",
       "    </tr>\n",
       "    <tr>\n",
       "      <th>1</th>\n",
       "      <td>(Cheese)</td>\n",
       "      <td>(Bread)</td>\n",
       "      <td>0.584350</td>\n",
       "      <td>0.908537</td>\n",
       "      <td>0.519309</td>\n",
       "      <td>0.888696</td>\n",
       "      <td>0.978162</td>\n",
       "      <td>1.0</td>\n",
       "      <td>-0.011594</td>\n",
       "      <td>0.821742</td>\n",
       "      <td>-0.050975</td>\n",
       "      <td>0.533403</td>\n",
       "      <td>-0.216928</td>\n",
       "      <td>0.730142</td>\n",
       "    </tr>\n",
       "    <tr>\n",
       "      <th>2</th>\n",
       "      <td>(Eggs)</td>\n",
       "      <td>(Bread)</td>\n",
       "      <td>0.572154</td>\n",
       "      <td>0.908537</td>\n",
       "      <td>0.507114</td>\n",
       "      <td>0.886323</td>\n",
       "      <td>0.975550</td>\n",
       "      <td>1.0</td>\n",
       "      <td>-0.012709</td>\n",
       "      <td>0.804592</td>\n",
       "      <td>-0.055336</td>\n",
       "      <td>0.520877</td>\n",
       "      <td>-0.242866</td>\n",
       "      <td>0.722244</td>\n",
       "    </tr>\n",
       "    <tr>\n",
       "      <th>3</th>\n",
       "      <td>(Milk)</td>\n",
       "      <td>(Bread)</td>\n",
       "      <td>0.725610</td>\n",
       "      <td>0.908537</td>\n",
       "      <td>0.716463</td>\n",
       "      <td>0.987395</td>\n",
       "      <td>1.086797</td>\n",
       "      <td>1.0</td>\n",
       "      <td>0.057220</td>\n",
       "      <td>7.256098</td>\n",
       "      <td>0.291064</td>\n",
       "      <td>0.780731</td>\n",
       "      <td>0.862185</td>\n",
       "      <td>0.887993</td>\n",
       "    </tr>\n",
       "    <tr>\n",
       "      <th>4</th>\n",
       "      <td>(Bread)</td>\n",
       "      <td>(Milk)</td>\n",
       "      <td>0.908537</td>\n",
       "      <td>0.725610</td>\n",
       "      <td>0.716463</td>\n",
       "      <td>0.788591</td>\n",
       "      <td>1.086797</td>\n",
       "      <td>1.0</td>\n",
       "      <td>0.057220</td>\n",
       "      <td>1.297909</td>\n",
       "      <td>0.873191</td>\n",
       "      <td>0.780731</td>\n",
       "      <td>0.229530</td>\n",
       "      <td>0.887993</td>\n",
       "    </tr>\n",
       "  </tbody>\n",
       "</table>\n",
       "</div>"
      ],
      "text/plain": [
       "  antecedents consequents  antecedent support  consequent support   support  \\\n",
       "0    (Butter)     (Bread)            0.661585            0.908537  0.642276   \n",
       "1    (Cheese)     (Bread)            0.584350            0.908537  0.519309   \n",
       "2      (Eggs)     (Bread)            0.572154            0.908537  0.507114   \n",
       "3      (Milk)     (Bread)            0.725610            0.908537  0.716463   \n",
       "4     (Bread)      (Milk)            0.908537            0.725610  0.716463   \n",
       "\n",
       "   confidence      lift  representativity  leverage  conviction  \\\n",
       "0    0.970814  1.068547               1.0  0.041202    3.133825   \n",
       "1    0.888696  0.978162               1.0 -0.011594    0.821742   \n",
       "2    0.886323  0.975550               1.0 -0.012709    0.804592   \n",
       "3    0.987395  1.086797               1.0  0.057220    7.256098   \n",
       "4    0.788591  1.086797               1.0  0.057220    1.297909   \n",
       "\n",
       "   zhangs_metric   jaccard  certainty  kulczynski  \n",
       "0       0.189560  0.692223   0.680901    0.838875  \n",
       "1      -0.050975  0.533403  -0.216928    0.730142  \n",
       "2      -0.055336  0.520877  -0.242866    0.722244  \n",
       "3       0.291064  0.780731   0.862185    0.887993  \n",
       "4       0.873191  0.780731   0.229530    0.887993  "
      ]
     },
     "execution_count": 23,
     "metadata": {},
     "output_type": "execute_result"
    }
   ],
   "source": [
    "rules.head()"
   ]
  },
  {
   "cell_type": "code",
   "execution_count": 24,
   "id": "1cda4624-28f4-4a6d-be42-acca1e654cdf",
   "metadata": {},
   "outputs": [],
   "source": [
    "rules['antecedents'] = rules['antecedents'].apply(lambda x: ', '.join(list(x)))\n",
    "rules['consequents'] = rules['consequents'].apply(lambda x: ', '.join(list(x)))"
   ]
  },
  {
   "cell_type": "markdown",
   "id": "d646833c-d8ef-4365-9658-6bda339aa206",
   "metadata": {},
   "source": [
    "### Plot of Support vs. Confidence"
   ]
  },
  {
   "cell_type": "code",
   "execution_count": 26,
   "id": "27b10cfe-a35c-48ad-b11c-57e065435f5a",
   "metadata": {},
   "outputs": [
    {
     "data": {
      "image/png": "[encoded data removed]",
      "text/plain": [
       "<Figure size 800x600 with 1 Axes>"
      ]
     },
     "metadata": {},
     "output_type": "display_data"
    }
   ],
   "source": [
    "plt.figure(figsize=(8, 6))\n",
    "sns.scatterplot(data=rules, x=\"support\", y=\"confidence\", hue=\"lift\", size=\"lift\", palette=\"viridis\", sizes=(40, 200))\n",
    "plt.title(\"Support vs Confidence (Size & Color = Lift)\")\n",
    "plt.xlabel(\"Support\")\n",
    "plt.ylabel(\"Confidence\")\n",
    "plt.legend(bbox_to_anchor=(1.05, 1), loc='upper left')\n",
    "plt.tight_layout()\n",
    "plt.show()"
   ]
  },
  {
   "cell_type": "markdown",
   "id": "878c7efa-0d07-4ce5-8e11-942dccf0da6d",
   "metadata": {},
   "source": [
    "### Plot of Lifts of Asscociation Rules"
   ]
  },
  {
   "cell_type": "code",
   "execution_count": 28,
   "id": "33fede4a-6afd-490a-bfe9-b3b2c3af92d8",
   "metadata": {},
   "outputs": [
    {
     "data": {
      "image/png": "[encoded data removed]",
      "text/plain": [
       "<Figure size 1200x600 with 2 Axes>"
      ]
     },
     "metadata": {},
     "output_type": "display_data"
    }
   ],
   "source": [
    "pivot = rules.pivot(index=\"antecedents\", columns=\"consequents\", values=\"lift\")\n",
    "plt.figure(figsize=(12, 6))\n",
    "sns.heatmap(pivot, fmt=\".2f\", cmap=\"coolwarm\", cbar_kws={'label': 'Lift'})\n",
    "plt.title(\"Heatmap of Lift for Association Rules\")\n",
    "plt.tight_layout()\n",
    "plt.show()"
   ]
  },
  {
   "cell_type": "markdown",
   "id": "f77bff28-c1e5-45fc-91a6-6db80c2e95c4",
   "metadata": {},
   "source": [
    "## FP-Growth Algorithm"
   ]
  },
  {
   "cell_type": "markdown",
   "id": "33d04e41-4aa9-445f-a526-f4dd01e5a941",
   "metadata": {},
   "source": [
    "The FP-Growth (Frequent Pattern Growth) algorithm is a highly efficient and scalable method for mining frequent itemsets without the need for candidate generation (unlike the Apriori algorithm). It's especially useful for large datasets.\n",
    "\n",
    "The FP-Growth algorithm operates in two main phases:\n",
    "\n",
    "1. Build an FP-Tree (Frequent Pattern Tree)\n",
    "\n",
    "2. Mine the FP-Tree recursively to find all frequent itemsets"
   ]
  },
  {
   "cell_type": "markdown",
   "id": "bf3358dd-3ba9-42ce-80bf-52d2ffed2687",
   "metadata": {},
   "source": [
    "### Frequent-Itemset Generation"
   ]
  },
  {
   "cell_type": "markdown",
   "id": "648e5dc6-69f1-40a9-8066-57bdb358953a",
   "metadata": {},
   "source": [
    "Minimum Support: 40%"
   ]
  },
  {
   "cell_type": "code",
   "execution_count": 32,
   "id": "103ff4da-03b4-4029-9e81-dfa8ee5f2fea",
   "metadata": {},
   "outputs": [
    {
     "data": {
      "text/html": [
       "<div>\n",
       "<style scoped>\n",
       "    .dataframe tbody tr th:only-of-type {\n",
       "        vertical-align: middle;\n",
       "    }\n",
       "\n",
       "    .dataframe tbody tr th {\n",
       "        vertical-align: top;\n",
       "    }\n",
       "\n",
       "    .dataframe thead th {\n",
       "        text-align: right;\n",
       "    }\n",
       "</style>\n",
       "<table border=\"1\" class=\"dataframe\">\n",
       "  <thead>\n",
       "    <tr style=\"text-align: right;\">\n",
       "      <th></th>\n",
       "      <th>support</th>\n",
       "      <th>itemsets</th>\n",
       "    </tr>\n",
       "  </thead>\n",
       "  <tbody>\n",
       "    <tr>\n",
       "      <th>0</th>\n",
       "      <td>0.908537</td>\n",
       "      <td>(Bread)</td>\n",
       "    </tr>\n",
       "    <tr>\n",
       "      <th>1</th>\n",
       "      <td>0.725610</td>\n",
       "      <td>(Milk)</td>\n",
       "    </tr>\n",
       "    <tr>\n",
       "      <th>2</th>\n",
       "      <td>0.661585</td>\n",
       "      <td>(Butter)</td>\n",
       "    </tr>\n",
       "    <tr>\n",
       "      <th>3</th>\n",
       "      <td>0.584350</td>\n",
       "      <td>(Cheese)</td>\n",
       "    </tr>\n",
       "    <tr>\n",
       "      <th>4</th>\n",
       "      <td>0.572154</td>\n",
       "      <td>(Eggs)</td>\n",
       "    </tr>\n",
       "    <tr>\n",
       "      <th>5</th>\n",
       "      <td>0.716463</td>\n",
       "      <td>(Milk, Bread)</td>\n",
       "    </tr>\n",
       "    <tr>\n",
       "      <th>6</th>\n",
       "      <td>0.642276</td>\n",
       "      <td>(Bread, Butter)</td>\n",
       "    </tr>\n",
       "    <tr>\n",
       "      <th>7</th>\n",
       "      <td>0.464431</td>\n",
       "      <td>(Milk, Butter)</td>\n",
       "    </tr>\n",
       "    <tr>\n",
       "      <th>8</th>\n",
       "      <td>0.464431</td>\n",
       "      <td>(Milk, Bread, Butter)</td>\n",
       "    </tr>\n",
       "    <tr>\n",
       "      <th>9</th>\n",
       "      <td>0.519309</td>\n",
       "      <td>(Cheese, Bread)</td>\n",
       "    </tr>\n",
       "    <tr>\n",
       "      <th>10</th>\n",
       "      <td>0.418699</td>\n",
       "      <td>(Cheese, Milk)</td>\n",
       "    </tr>\n",
       "    <tr>\n",
       "      <th>11</th>\n",
       "      <td>0.411585</td>\n",
       "      <td>(Cheese, Milk, Bread)</td>\n",
       "    </tr>\n",
       "    <tr>\n",
       "      <th>12</th>\n",
       "      <td>0.524390</td>\n",
       "      <td>(Cheese, Eggs)</td>\n",
       "    </tr>\n",
       "    <tr>\n",
       "      <th>13</th>\n",
       "      <td>0.507114</td>\n",
       "      <td>(Eggs, Bread)</td>\n",
       "    </tr>\n",
       "    <tr>\n",
       "      <th>14</th>\n",
       "      <td>0.410569</td>\n",
       "      <td>(Eggs, Milk)</td>\n",
       "    </tr>\n",
       "    <tr>\n",
       "      <th>15</th>\n",
       "      <td>0.463415</td>\n",
       "      <td>(Cheese, Bread, Eggs)</td>\n",
       "    </tr>\n",
       "    <tr>\n",
       "      <th>16</th>\n",
       "      <td>0.402439</td>\n",
       "      <td>(Eggs, Milk, Bread)</td>\n",
       "    </tr>\n",
       "  </tbody>\n",
       "</table>\n",
       "</div>"
      ],
      "text/plain": [
       "     support               itemsets\n",
       "0   0.908537                (Bread)\n",
       "1   0.725610                 (Milk)\n",
       "2   0.661585               (Butter)\n",
       "3   0.584350               (Cheese)\n",
       "4   0.572154                 (Eggs)\n",
       "5   0.716463          (Milk, Bread)\n",
       "6   0.642276        (Bread, Butter)\n",
       "7   0.464431         (Milk, Butter)\n",
       "8   0.464431  (Milk, Bread, Butter)\n",
       "9   0.519309        (Cheese, Bread)\n",
       "10  0.418699         (Cheese, Milk)\n",
       "11  0.411585  (Cheese, Milk, Bread)\n",
       "12  0.524390         (Cheese, Eggs)\n",
       "13  0.507114          (Eggs, Bread)\n",
       "14  0.410569           (Eggs, Milk)\n",
       "15  0.463415  (Cheese, Bread, Eggs)\n",
       "16  0.402439    (Eggs, Milk, Bread)"
      ]
     },
     "execution_count": 32,
     "metadata": {},
     "output_type": "execute_result"
    }
   ],
   "source": [
    "freq_itemsets = fpgrowth(processed_df, min_support = 0.4, use_colnames = True)\n",
    "freq_itemsets"
   ]
  },
  {
   "cell_type": "markdown",
   "id": "8813ba3c-23f7-4926-8319-c273a6a19019",
   "metadata": {},
   "source": [
    "As we have obtained, the 2 algorithms generate identical frequent itemsets. The algorithms work in different ways to generate the frequent itemsets. So, the rules generated will be identical. "
   ]
  },
  {
   "cell_type": "markdown",
   "id": "c5dbf256-0b9e-474d-ad2b-52223b5d372e",
   "metadata": {},
   "source": [
    "### Rules"
   ]
  },
  {
   "cell_type": "markdown",
   "id": "82ac22b2-f6a2-42e3-be6d-33f669808a42",
   "metadata": {},
   "source": [
    "Threshold Confidence: 75%"
   ]
  },
  {
   "cell_type": "code",
   "execution_count": 35,
   "id": "7aeb0277-ebfa-4062-8047-99ee438f04b6",
   "metadata": {},
   "outputs": [
    {
     "data": {
      "text/html": [
       "<div>\n",
       "<style scoped>\n",
       "    .dataframe tbody tr th:only-of-type {\n",
       "        vertical-align: middle;\n",
       "    }\n",
       "\n",
       "    .dataframe tbody tr th {\n",
       "        vertical-align: top;\n",
       "    }\n",
       "\n",
       "    .dataframe thead th {\n",
       "        text-align: right;\n",
       "    }\n",
       "</style>\n",
       "<table border=\"1\" class=\"dataframe\">\n",
       "  <thead>\n",
       "    <tr style=\"text-align: right;\">\n",
       "      <th></th>\n",
       "      <th>antecedents</th>\n",
       "      <th>consequents</th>\n",
       "      <th>antecedent support</th>\n",
       "      <th>consequent support</th>\n",
       "      <th>support</th>\n",
       "      <th>confidence</th>\n",
       "      <th>lift</th>\n",
       "      <th>representativity</th>\n",
       "      <th>leverage</th>\n",
       "      <th>conviction</th>\n",
       "      <th>zhangs_metric</th>\n",
       "      <th>jaccard</th>\n",
       "      <th>certainty</th>\n",
       "      <th>kulczynski</th>\n",
       "    </tr>\n",
       "  </thead>\n",
       "  <tbody>\n",
       "    <tr>\n",
       "      <th>0</th>\n",
       "      <td>Butter</td>\n",
       "      <td>Bread</td>\n",
       "      <td>0.661585</td>\n",
       "      <td>0.908537</td>\n",
       "      <td>0.642276</td>\n",
       "      <td>0.970814</td>\n",
       "      <td>1.068547</td>\n",
       "      <td>1.0</td>\n",
       "      <td>0.041202</td>\n",
       "      <td>3.133825</td>\n",
       "      <td>0.189560</td>\n",
       "      <td>0.692223</td>\n",
       "      <td>0.680901</td>\n",
       "      <td>0.838875</td>\n",
       "    </tr>\n",
       "    <tr>\n",
       "      <th>1</th>\n",
       "      <td>Cheese</td>\n",
       "      <td>Bread</td>\n",
       "      <td>0.584350</td>\n",
       "      <td>0.908537</td>\n",
       "      <td>0.519309</td>\n",
       "      <td>0.888696</td>\n",
       "      <td>0.978162</td>\n",
       "      <td>1.0</td>\n",
       "      <td>-0.011594</td>\n",
       "      <td>0.821742</td>\n",
       "      <td>-0.050975</td>\n",
       "      <td>0.533403</td>\n",
       "      <td>-0.216928</td>\n",
       "      <td>0.730142</td>\n",
       "    </tr>\n",
       "    <tr>\n",
       "      <th>2</th>\n",
       "      <td>Eggs</td>\n",
       "      <td>Bread</td>\n",
       "      <td>0.572154</td>\n",
       "      <td>0.908537</td>\n",
       "      <td>0.507114</td>\n",
       "      <td>0.886323</td>\n",
       "      <td>0.975550</td>\n",
       "      <td>1.0</td>\n",
       "      <td>-0.012709</td>\n",
       "      <td>0.804592</td>\n",
       "      <td>-0.055336</td>\n",
       "      <td>0.520877</td>\n",
       "      <td>-0.242866</td>\n",
       "      <td>0.722244</td>\n",
       "    </tr>\n",
       "    <tr>\n",
       "      <th>3</th>\n",
       "      <td>Milk</td>\n",
       "      <td>Bread</td>\n",
       "      <td>0.725610</td>\n",
       "      <td>0.908537</td>\n",
       "      <td>0.716463</td>\n",
       "      <td>0.987395</td>\n",
       "      <td>1.086797</td>\n",
       "      <td>1.0</td>\n",
       "      <td>0.057220</td>\n",
       "      <td>7.256098</td>\n",
       "      <td>0.291064</td>\n",
       "      <td>0.780731</td>\n",
       "      <td>0.862185</td>\n",
       "      <td>0.887993</td>\n",
       "    </tr>\n",
       "    <tr>\n",
       "      <th>4</th>\n",
       "      <td>Bread</td>\n",
       "      <td>Milk</td>\n",
       "      <td>0.908537</td>\n",
       "      <td>0.725610</td>\n",
       "      <td>0.716463</td>\n",
       "      <td>0.788591</td>\n",
       "      <td>1.086797</td>\n",
       "      <td>1.0</td>\n",
       "      <td>0.057220</td>\n",
       "      <td>1.297909</td>\n",
       "      <td>0.873191</td>\n",
       "      <td>0.780731</td>\n",
       "      <td>0.229530</td>\n",
       "      <td>0.887993</td>\n",
       "    </tr>\n",
       "  </tbody>\n",
       "</table>\n",
       "</div>"
      ],
      "text/plain": [
       "  antecedents consequents  antecedent support  consequent support   support  \\\n",
       "0      Butter       Bread            0.661585            0.908537  0.642276   \n",
       "1      Cheese       Bread            0.584350            0.908537  0.519309   \n",
       "2        Eggs       Bread            0.572154            0.908537  0.507114   \n",
       "3        Milk       Bread            0.725610            0.908537  0.716463   \n",
       "4       Bread        Milk            0.908537            0.725610  0.716463   \n",
       "\n",
       "   confidence      lift  representativity  leverage  conviction  \\\n",
       "0    0.970814  1.068547               1.0  0.041202    3.133825   \n",
       "1    0.888696  0.978162               1.0 -0.011594    0.821742   \n",
       "2    0.886323  0.975550               1.0 -0.012709    0.804592   \n",
       "3    0.987395  1.086797               1.0  0.057220    7.256098   \n",
       "4    0.788591  1.086797               1.0  0.057220    1.297909   \n",
       "\n",
       "   zhangs_metric   jaccard  certainty  kulczynski  \n",
       "0       0.189560  0.692223   0.680901    0.838875  \n",
       "1      -0.050975  0.533403  -0.216928    0.730142  \n",
       "2      -0.055336  0.520877  -0.242866    0.722244  \n",
       "3       0.291064  0.780731   0.862185    0.887993  \n",
       "4       0.873191  0.780731   0.229530    0.887993  "
      ]
     },
     "execution_count": 35,
     "metadata": {},
     "output_type": "execute_result"
    }
   ],
   "source": [
    "rules.head()"
   ]
  },
  {
   "cell_type": "markdown",
   "id": "7dcb1e14-cd66-4caf-b65a-aa6ccba7de50",
   "metadata": {},
   "source": [
    "Let's use some threshold values for each metric to rank them based on the number of thresholds each crosses."
   ]
  },
  {
   "cell_type": "markdown",
   "id": "1a83aae8-7d90-4c9b-b227-b658dc1b0b85",
   "metadata": {},
   "source": [
    "### Ranking Rules"
   ]
  },
  {
   "cell_type": "code",
   "execution_count": 38,
   "id": "fa2128d2-c2ad-4238-87cd-30a6d04f8008",
   "metadata": {},
   "outputs": [],
   "source": [
    "# thresholds for rule ranking\n",
    "thresholds = {\n",
    "    'support': 0.4,\n",
    "    'confidence': 0.75,\n",
    "    'lift': 1.5,\n",
    "    'representativity': 0.7,\n",
    "    'leverage': 0.01,\n",
    "    'conviction': 1.0,\n",
    "    'zhangs_metric': 0.5,\n",
    "    'jaccard': 0.5,\n",
    "    'certainty': 0.5,\n",
    "    'kulczynski': 0.5,\n",
    "}"
   ]
  },
  {
   "cell_type": "code",
   "execution_count": 39,
   "id": "6e90c3f2-348a-47af-956b-cc7ba698ce02",
   "metadata": {},
   "outputs": [
    {
     "name": "stdout",
     "output_type": "stream",
     "text": [
      "Top Ranked Rules Based on Metric Scores:\n",
      "      antecedents    consequents   support  confidence      lift  score\n",
      "0   Cheese, Bread           Eggs  0.463415    0.892368  1.559663    1.0\n",
      "1            Eggs  Cheese, Bread  0.463415    0.809947  1.559663    1.0\n",
      "2          Cheese    Eggs, Bread  0.463415    0.793043  1.563837    1.0\n",
      "3     Eggs, Bread         Cheese  0.463415    0.913828  1.563837    1.0\n",
      "4          Cheese           Eggs  0.524390    0.897391  1.568442    1.0\n",
      "5            Eggs         Cheese  0.524390    0.916519  1.568442    1.0\n",
      "6    Milk, Butter          Bread  0.464431    1.000000  1.100671    0.8\n",
      "7          Butter          Bread  0.642276    0.970814  1.068547    0.8\n",
      "8           Bread           Milk  0.716463    0.788591  1.086797    0.8\n",
      "9            Milk          Bread  0.716463    0.987395  1.086797    0.8\n",
      "10   Cheese, Milk          Bread  0.411585    0.983010  1.081970    0.7\n",
      "11     Eggs, Milk          Bread  0.402439    0.980198  1.078876    0.7\n",
      "12  Cheese, Bread           Milk  0.411585    0.792564  1.092273    0.6\n",
      "13    Eggs, Bread           Milk  0.402439    0.793587  1.093683    0.6\n",
      "14         Cheese          Bread  0.519309    0.888696  0.978162    0.5\n",
      "15           Eggs          Bread  0.507114    0.886323  0.975550    0.5\n",
      "16   Cheese, Eggs          Bread  0.463415    0.883721  0.972686    0.4\n"
     ]
    }
   ],
   "source": [
    "rules['score'] = 0\n",
    "\n",
    "for metric, thresh in thresholds.items():\n",
    "    rules['score'] += (rules[metric] >= thresh).astype(int)\n",
    "\n",
    "rules['score'] = rules['score'] / len(thresholds)\n",
    "ranked_rules = rules.sort_values(by='score', ascending=False).reset_index(drop=True)\n",
    "\n",
    "print(\"Top Ranked Rules Based on Metric Scores:\")\n",
    "print(ranked_rules[['antecedents', 'consequents', 'support', 'confidence', 'lift', 'score']])"
   ]
  },
  {
   "cell_type": "markdown",
   "id": "29e8b64e-3390-4829-b64a-a5363c1d7eea",
   "metadata": {},
   "source": [
    "## CLOSET Algorithm"
   ]
  },
  {
   "cell_type": "markdown",
   "id": "6d08225e-80c9-43f0-bf51-5d9255f93638",
   "metadata": {},
   "source": [
    "CLOSET stands for \"Closed Itemset Mining using a Pattern-Growth Approach\".\n",
    "It is based on the FP-Growth algorithm but includes mechanisms to ensure only closed patterns are mined."
   ]
  },
  {
   "cell_type": "markdown",
   "id": "d72c92ad-705d-4500-863d-b9fdf1201635",
   "metadata": {},
   "source": [
    "We will implement CLOSET Algorithm as follows:\n",
    "\n",
    "- Use fpgrowth() to generate frequent itemsets\n",
    "- Then, filter those itemsets to keep only the closed ones\n",
    "- A closed itemset is one that doesn’t have a superset with the same support"
   ]
  },
  {
   "cell_type": "markdown",
   "id": "546d0a5a-9395-4db7-8b7f-eec0a132a1a8",
   "metadata": {},
   "source": [
    "### Function to create closed itemsets using FP-Growth algorithm"
   ]
  },
  {
   "cell_type": "code",
   "execution_count": 44,
   "id": "4ce2fd66-eef4-4b0d-b59f-d83ef2ac0409",
   "metadata": {},
   "outputs": [],
   "source": [
    "def get_closed_itemsets(df, min_support):\n",
    "    frequent_itemsets = fpgrowth(df, min_support=min_support, use_colnames=True)\n",
    "\n",
    "    frequent_itemsets['itemset'] = frequent_itemsets['itemsets'].apply(frozenset)\n",
    "\n",
    "    itemset_support_dict = {\n",
    "        frozenset(row['itemsets']): row['support']\n",
    "        for _, row in frequent_itemsets.iterrows()\n",
    "    }\n",
    "\n",
    "    closed_itemsets = []\n",
    "    for itemset in itemset_support_dict:\n",
    "        is_closed = True\n",
    "        for other_itemset in itemset_support_dict:\n",
    "            if itemset < other_itemset:  # strict subset\n",
    "                if itemset_support_dict[itemset] == itemset_support_dict[other_itemset]:\n",
    "                    is_closed = False\n",
    "                    break\n",
    "        if is_closed:\n",
    "            closed_itemsets.append({\n",
    "                'itemsets': set(itemset),\n",
    "                'support': itemset_support_dict[itemset]\n",
    "            })\n",
    "\n",
    "    closed_df = pd.DataFrame(closed_itemsets)\n",
    "    return closed_df\n"
   ]
  },
  {
   "cell_type": "markdown",
   "id": "30e90d30-f9e3-45ba-83b5-d977fbf7a57d",
   "metadata": {},
   "source": [
    "### Closed Itemsets"
   ]
  },
  {
   "cell_type": "markdown",
   "id": "a6c5a7f4-55cb-477c-b198-b1a1b35c3de1",
   "metadata": {},
   "source": [
    "Minimum Support: 40%"
   ]
  },
  {
   "cell_type": "code",
   "execution_count": 46,
   "id": "ff352a1b-d06b-4b62-b28a-f2623687974e",
   "metadata": {},
   "outputs": [
    {
     "name": "stdout",
     "output_type": "stream",
     "text": [
      "                 itemsets   support\n",
      "0                 {Bread}  0.908537\n",
      "1                  {Milk}  0.725610\n",
      "2                {Butter}  0.661585\n",
      "3                {Cheese}  0.584350\n",
      "4                  {Eggs}  0.572154\n",
      "5           {Milk, Bread}  0.716463\n",
      "6         {Bread, Butter}  0.642276\n",
      "7   {Milk, Bread, Butter}  0.464431\n",
      "8         {Cheese, Bread}  0.519309\n",
      "9          {Cheese, Milk}  0.418699\n",
      "10  {Cheese, Milk, Bread}  0.411585\n",
      "11         {Cheese, Eggs}  0.524390\n",
      "12          {Eggs, Bread}  0.507114\n",
      "13           {Eggs, Milk}  0.410569\n",
      "14  {Cheese, Bread, Eggs}  0.463415\n",
      "15    {Eggs, Milk, Bread}  0.402439\n"
     ]
    }
   ],
   "source": [
    "closed_itemsets = get_closed_itemsets(processed_df, min_support=0.4)\n",
    "print(closed_itemsets)"
   ]
  },
  {
   "cell_type": "markdown",
   "id": "315ee107-285c-4805-83d3-baae82a6efca",
   "metadata": {},
   "source": [
    "### Plot of Antecedants by their Supports"
   ]
  },
  {
   "cell_type": "code",
   "execution_count": 48,
   "id": "7f40bb24-88e4-467a-b6b0-5aad30bdb783",
   "metadata": {},
   "outputs": [],
   "source": [
    "def plot_closed_itemsets_bar(closed_df, top_n=10):\n",
    "    top_closed = closed_df.sort_values(by='support', ascending=False).head(top_n)\n",
    "\n",
    "    top_closed['label'] = top_closed['itemsets'].apply(lambda x: ', '.join(sorted(list(x))))\n",
    "\n",
    "    plt.figure(figsize=(10, 6))\n",
    "    bars = plt.barh(top_closed['label'], top_closed['support'], color='skyblue')\n",
    "    plt.xlabel('Support')\n",
    "    plt.ylabel('Closed Itemsets')\n",
    "    plt.title(f'Top {top_n} Closed Itemsets by Support')\n",
    "    plt.gca().invert_yaxis()\n",
    "\n",
    "    # Add text labels to bars\n",
    "    for bar in bars:\n",
    "        plt.text(bar.get_width(), bar.get_y() + bar.get_height()/2,\n",
    "                 f'{bar.get_width():.2f}', va='center')\n",
    "    \n",
    "    plt.tight_layout()\n",
    "    plt.show()\n"
   ]
  },
  {
   "cell_type": "code",
   "execution_count": 49,
   "id": "c6731db2-c282-4c00-9b2e-6c3bf8a8dfa1",
   "metadata": {},
   "outputs": [
    {
     "data": {
      "image/png": "[encoded data removed]",
      "text/plain": [
       "<Figure size 1000x600 with 1 Axes>"
      ]
     },
     "metadata": {},
     "output_type": "display_data"
    }
   ],
   "source": [
    "plot_closed_itemsets_bar(closed_itemsets, top_n=10)"
   ]
  },
  {
   "cell_type": "markdown",
   "id": "03a4904f-ab33-4cbd-8fee-7efa47848728",
   "metadata": {},
   "source": [
    "### Candidate Rules from Closed Itemsets"
   ]
  },
  {
   "cell_type": "code",
   "execution_count": 51,
   "id": "cd807c41-6bfc-429d-91b5-3c6b53bf77cd",
   "metadata": {},
   "outputs": [],
   "source": [
    "def generate_rules_from_closed_itemsets(closed_df, df, min_confidence):\n",
    "    transactions = df.astype(bool).values.tolist()\n",
    "    n_transactions = len(transactions)\n",
    "\n",
    "    support_dict = {\n",
    "        frozenset(row['itemsets']): row['support']\n",
    "        for _, row in closed_df.iterrows()\n",
    "    }\n",
    "\n",
    "    rules = []\n",
    "\n",
    "    for itemset in support_dict:\n",
    "        if len(itemset) < 2:\n",
    "            continue\n",
    "        for i in range(1, len(itemset)):\n",
    "            for antecedent in combinations(itemset, i):\n",
    "                antecedent = frozenset(antecedent)\n",
    "                consequent = itemset - antecedent\n",
    "\n",
    "                if not consequent:\n",
    "                    continue\n",
    "\n",
    "                antecedent_support = support_dict.get(antecedent, None)\n",
    "                if antecedent_support is None:\n",
    "                    antecedent_support = sum(all(item in row for item in antecedent) for row in transactions) / n_transactions\n",
    "\n",
    "                itemset_support = support_dict[itemset]\n",
    "                consequent_support = support_dict.get(consequent, sum(all(item in row for item in consequent) for row in transactions) / n_transactions)\n",
    "\n",
    "                confidence = itemset_support / antecedent_support if antecedent_support > 0 else 0\n",
    "                lift = confidence / consequent_support if consequent_support > 0 else 0\n",
    "\n",
    "                if confidence >= min_confidence:\n",
    "                    rules.append({\n",
    "                        'antecedents': set(antecedent),\n",
    "                        'consequents': set(consequent),\n",
    "                        'support': itemset_support,\n",
    "                        'confidence': confidence,\n",
    "                        'lift': lift\n",
    "                    })\n",
    "\n",
    "    return pd.DataFrame(rules)"
   ]
  },
  {
   "cell_type": "code",
   "execution_count": null,
   "id": "0a44f6da-6a76-4080-9240-5c29ddbf7635",
   "metadata": {},
   "outputs": [],
   "source": []
  },
  {
   "cell_type": "code",
   "execution_count": 52,
   "id": "8bd0ffeb-80f9-4190-9268-8fd7f183d82f",
   "metadata": {},
   "outputs": [
    {
     "name": "stdout",
     "output_type": "stream",
     "text": [
      "Candidate Rules: \n",
      "        antecedents      consequents   support  confidence      lift\n",
      "0            {Milk}          {Bread}  0.716463    0.987395  1.086797\n",
      "1           {Bread}           {Milk}  0.716463    0.788591  1.086797\n",
      "2          {Butter}          {Bread}  0.642276    0.970814  1.068547\n",
      "3          {Cheese}          {Bread}  0.519309    0.888696  0.978162\n",
      "4    {Cheese, Milk}          {Bread}  0.411585    0.983010  1.081970\n",
      "5   {Cheese, Bread}           {Milk}  0.411585    0.792564  1.092273\n",
      "6          {Cheese}           {Eggs}  0.524390    0.897391  1.568442\n",
      "7            {Eggs}         {Cheese}  0.524390    0.916519  1.568442\n",
      "8            {Eggs}          {Bread}  0.507114    0.886323  0.975550\n",
      "9          {Cheese}    {Eggs, Bread}  0.463415    0.793043  1.563837\n",
      "10           {Eggs}  {Cheese, Bread}  0.463415    0.809947  1.559663\n",
      "11  {Cheese, Bread}           {Eggs}  0.463415    0.892368  1.559663\n",
      "12   {Cheese, Eggs}          {Bread}  0.463415    0.883721  0.972686\n",
      "13    {Eggs, Bread}         {Cheese}  0.463415    0.913828  1.563837\n",
      "14     {Eggs, Milk}          {Bread}  0.402439    0.980198  1.078876\n",
      "15    {Eggs, Bread}           {Milk}  0.402439    0.793587  1.093683\n"
     ]
    }
   ],
   "source": [
    "rules_from_closed = generate_rules_from_closed_itemsets(closed_itemsets, df, min_confidence=0.75)\n",
    "print('Candidate Rules: ')\n",
    "print(rules_from_closed)"
   ]
  },
  {
   "cell_type": "markdown",
   "id": "0e3eaecf-f586-461c-93d7-f3d56b60e393",
   "metadata": {},
   "source": [
    "This concludes the use of a few Association Rule Mining Algorithms. "
   ]
  }
 ],
 "metadata": {
  "kernelspec": {
   "display_name": "Python [conda env:base] *",
   "language": "python",
   "name": "conda-base-py"
  },
  "language_info": {
   "codemirror_mode": {
    "name": "ipython",
    "version": 3
   },
   "file_extension": ".py",
   "mimetype": "text/x-python",
   "name": "python",
   "nbconvert_exporter": "python",
   "pygments_lexer": "ipython3",
   "version": "3.12.4"
  }
 },
 "nbformat": 4,
 "nbformat_minor": 5
}
